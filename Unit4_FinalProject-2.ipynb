{
  "nbformat": 4,
  "nbformat_minor": 0,
  "metadata": {
    "kernelspec": {
      "display_name": "Python 3",
      "language": "python",
      "name": "python3"
    },
    "language_info": {
      "codemirror_mode": {
        "name": "ipython",
        "version": 3
      },
      "file_extension": ".py",
      "mimetype": "text/x-python",
      "name": "python",
      "nbconvert_exporter": "python",
      "pygments_lexer": "ipython3",
      "version": "3.8.3"
    },
    "colab": {
      "name": "Unit4_FinalProject.ipynb",
      "provenance": []
    }
  },
  "cells": [
    {
      "cell_type": "markdown",
      "metadata": {
        "id": "ehfzF2Y7r9V0"
      },
      "source": [
        "# Unit 4 Final Projects: Calculating evolutionary distance\n",
        "\n",
        "In this notebook you will compare the sequence of a particular gene from 3 different species to find out which two are most closely related. \n",
        "\n",
        "You will need to do the following:\n",
        "1. Open and read in your files\n",
        "2. Decide which sequences to compare (DNA, RNA, or protein), (you may have to look at all of them)\n",
        "3. Write code that prints out the percent similarity of each pair of sequences\n",
        "\n",
        "Note: Percent similarity can be taken by the following formula: `similarites * 100 / length of the shortest sequence`\n",
        " "
      ]
    },
    {
      "cell_type": "code",
      "metadata": {
        "colab": {
          "base_uri": "https://localhost:8080/"
        },
        "id": "RE1Ha8S-uhr7",
        "outputId": "359dbc5f-f228-4dc1-a495-18e72a906c5d"
      },
      "source": [
        "from google.colab import drive\n",
        "drive.mount('/content/drive')\n",
        "turtle = open(\"/content/drive/MyDrive/Colab Notebooks/2a_CYTB_DNA.txt\").read()\n",
        "chicken = open(\"/content/drive/MyDrive/Colab Notebooks/2b_CYTB_DNA.txt\").read()\n",
        "alligator = open(\"/content/drive/MyDrive/Colab Notebooks/2c_CYTB_DNA.txt\").read()\n"
      ],
      "execution_count": null,
      "outputs": [
        {
          "output_type": "stream",
          "text": [
            "Drive already mounted at /content/drive; to attempt to forcibly remount, call drive.mount(\"/content/drive\", force_remount=True).\n"
          ],
          "name": "stdout"
        }
      ]
    },
    {
      "cell_type": "code",
      "metadata": {
        "collapsed": true,
        "colab": {
          "base_uri": "https://localhost:8080/"
        },
        "id": "aLNFEdWlr9Wn",
        "outputId": "b1739a82-c742-4440-cd89-e0e24a213789"
      },
      "source": [
        "#Turtle -> Chicken\n",
        "numSimilaritesTC = 0\n",
        "\n",
        "for c, i in enumerate(turtle):\n",
        "  if chicken[c] == i: #checking for similarites\n",
        "    numSimilaritesTC += 1\n",
        "\n",
        "print(numSimilaritesTC)\n",
        "\n",
        "#Turtle -> Alligator\n",
        "numSimilaritesTA = 0\n",
        "\n",
        "for c, i in enumerate(turtle):\n",
        "  if alligator[c] == i: #checking for similarites\n",
        "    numSimilaritesTA += 1\n",
        "\n",
        "print(numSimilaritesTA)\n",
        "\n",
        "#Chicken -> Alligator\n",
        "numSimilaritesCA = 0\n",
        "\n",
        "for c, i in enumerate(chicken):\n",
        "  if alligator[c] == i: #checking for similarites\n",
        "    numSimilaritesCA += 1\n",
        "\n",
        "print(numSimilaritesCA)"
      ],
      "execution_count": null,
      "outputs": [
        {
          "output_type": "stream",
          "text": [
            "848\n",
            "792\n",
            "772\n"
          ],
          "name": "stdout"
        }
      ]
    },
    {
      "cell_type": "code",
      "metadata": {
        "collapsed": true,
        "colab": {
          "base_uri": "https://localhost:8080/"
        },
        "id": "BvGyt68yr9Wo",
        "outputId": "be9ac2b3-a774-46ec-909c-80bd9194949a"
      },
      "source": [
        "#Finding percent of similarity\n",
        "#similarites * 100 / length of the shortest sequence\n",
        "print(len(turtle))\n",
        "print(len(chicken))\n",
        "print(len(alligator))\n",
        "#Turtle chicken percent\n",
        "percentTC = (numSimilaritesTC * 100)/len(turtle)\n",
        "\n",
        "#Turtle alligator percent\n",
        "percentTA = (numSimilaritesTA * 100)/len(turtle)\n",
        "\n",
        "#Chicken Alligator percent\n",
        "percentCA = (numSimilaritesCA * 100)/len(chicken)"
      ],
      "execution_count": null,
      "outputs": [
        {
          "output_type": "stream",
          "text": [
            "1118\n",
            "1127\n",
            "1211\n"
          ],
          "name": "stdout"
        }
      ]
    },
    {
      "cell_type": "code",
      "metadata": {
        "collapsed": true,
        "colab": {
          "base_uri": "https://localhost:8080/"
        },
        "id": "B9SjkK_2r9Wo",
        "outputId": "bb2c0320-3162-40bc-ec17-0962c0bbd0f4"
      },
      "source": [
        "print(\"Turtle to chicken percent similarity: \" + str(percentTC))\n",
        "print(\"Turtle to alligator percent similarity: \" + str(percentTA))\n",
        "print(\"Chicken to alligator percent similarity: \" + str(percentCA))"
      ],
      "execution_count": null,
      "outputs": [
        {
          "output_type": "stream",
          "text": [
            "Turtle to chicken percent similarity: 75.84973166368515\n",
            "Turtle to alligator percent similarity: 70.84078711985688\n",
            "Chicken to alligator percent similarity: 68.50044365572316\n"
          ],
          "name": "stdout"
        }
      ]
    },
    {
      "cell_type": "code",
      "metadata": {
        "id": "CeeIIZcR27LJ"
      },
      "source": [
        "TRNA = \"\" #turtle RNA\n",
        "for i in turtle:\n",
        "  if i == \"A\":\n",
        "    TRNA = TRNA + \"U\"\n",
        "  elif i == \"T\":\n",
        "    TRNA = TRNA + \"A\"\n",
        "  elif i == \"G\":\n",
        "    TRNA = TRNA + \"C\"\n",
        "  elif i == \"C\":\n",
        "    TRNA = TRNA + \"G\"\n",
        "\n",
        "CRNA = \"\" #Chicken RNA\n",
        "for i in chicken:\n",
        "  if i == \"A\":\n",
        "    CRNA = CRNA + \"U\"\n",
        "  elif i == \"T\":\n",
        "    CRNA = CRNA + \"A\"\n",
        "  elif i == \"G\":\n",
        "    CRNA = CRNA + \"C\"\n",
        "  elif i == \"C\":\n",
        "    CRNA = CRNA + \"G\"\n",
        "\n",
        "ARNA = \"\" #alligator RNA\n",
        "for i in alligator:\n",
        "  if i == \"A\":\n",
        "    ARNA = ARNA + \"U\"\n",
        "  elif i == \"T\":\n",
        "    ARNA = ARNA + \"A\"\n",
        "  elif i == \"G\":\n",
        "    ARNA = ARNA + \"C\"\n",
        "  elif i == \"C\":\n",
        "    ARNA = ARNA + \"G\""
      ],
      "execution_count": null,
      "outputs": []
    },
    {
      "cell_type": "code",
      "metadata": {
        "colab": {
          "base_uri": "https://localhost:8080/"
        },
        "id": "Erw2x4BI36oG",
        "outputId": "c5979fcb-5a7d-4ad7-c029-9e0bf085f73f"
      },
      "source": [
        "#RNA\n",
        "#Turtle -> Chicken\n",
        "numSimilaritesTCRNA = 0\n",
        "\n",
        "for c, i in enumerate(TRNA):\n",
        "  if CRNA[c] == i: #checking for similarites\n",
        "    numSimilaritesTCRNA += 1\n",
        "\n",
        "print(numSimilaritesTCRNA)\n",
        "\n",
        "#Turtle -> Alligator\n",
        "numSimilaritesTARNA = 0\n",
        "\n",
        "for c, i in enumerate(TRNA):\n",
        "  if ARNA[c] == i: #checking for similarites\n",
        "    numSimilaritesTARNA += 1\n",
        "\n",
        "print(numSimilaritesTARNA)\n",
        "\n",
        "#Chicken -> Alligator\n",
        "numSimilaritesCARNA = 0\n",
        "\n",
        "for c, i in enumerate(CRNA):\n",
        "  if ARNA[c] == i: #checking for similarites\n",
        "    numSimilaritesCARNA += 1\n",
        "\n",
        "print(numSimilaritesCARNA)"
      ],
      "execution_count": null,
      "outputs": [
        {
          "output_type": "stream",
          "text": [
            "848\n",
            "792\n",
            "772\n"
          ],
          "name": "stdout"
        }
      ]
    },
    {
      "cell_type": "code",
      "metadata": {
        "colab": {
          "base_uri": "https://localhost:8080/"
        },
        "id": "Rw-gnNnJ6Ncg",
        "outputId": "f2b6f250-0e54-4d90-e554-2808b2d786be"
      },
      "source": [
        "#% similarity RNA\n",
        "#Turtle chicken percent\n",
        "percentTCRNA = (numSimilaritesTCRNA * 100)/len(turtle)\n",
        "\n",
        "#Turtle alligator percent\n",
        "percentTARNA = (numSimilaritesTARNA * 100)/len(turtle)\n",
        "\n",
        "#Chicken Alligator percent\n",
        "percentCARNA = (numSimilaritesCARNA * 100)/len(chicken)\n",
        "\n",
        "#print\n",
        "print(\"Turtle to chicken RNA percent similarity: \" + str(percentTCRNA))\n",
        "print(\"Turtle to alligator RNA percent similarity: \" + str(percentTARNA))\n",
        "print(\"Chicken to alligator RNA percent similarity: \" + str(percentCARNA))"
      ],
      "execution_count": null,
      "outputs": [
        {
          "output_type": "stream",
          "text": [
            "Turtle to chicken RNA percent similarity: 75.84973166368515\n",
            "Turtle to alligator RNA percent similarity: 70.84078711985688\n",
            "Chicken to alligator RNA percent similarity: 68.50044365572316\n"
          ],
          "name": "stdout"
        }
      ]
    },
    {
      "cell_type": "code",
      "metadata": {
        "colab": {
          "base_uri": "https://localhost:8080/",
          "height": 232
        },
        "id": "6yVS3X0S6jiu",
        "outputId": "a784f360-27d1-4f85-f8c9-a766838143d6"
      },
      "source": [
        "#Protein\n",
        "codonDict = {\"UUU\":\"F\", \"UUC\":\"F\", \"UUA\":\"L\", \"UUG\":\"L\", \"CUU\":\"L\", \"CUC\":\"L\", \"CUA\":\"L\", \"CUG\":\"L\", \"AUU\":\"I\", \"AUC\":\"I\", \"AUA\":\"I\", \"AUG\":\"M\", \"GUU\":\"V\", \"GUC\":\"V\", \"GUA\":\"V\", \"GUG\":\"V\", \"UCU\":\"S\", \"UCC\":\"S\", \"UCA\":\"S\", \"UCG\":\"S\", \"CCU\":\"P\", \"CCC\":\"P\", \"CCA\":\"P\", \"CCG\":\"P\", \"ACU\":\"T\", \"ACC\":\"T\", \"ACA\":\"T\", \"ACG\":\"T\", \"GCU\":\"A\", \"GCC\":\"A\", \"GCA\":\"A\", \"GCG\":\"A\", \"UAU\":\"Y\", \"UAC\":\"Y\", \"UAA\":\"STOP\", \"UAG\":\"STOP\", \"CAU\":\"H\", \"CAC\":\"H\", \"CAA\":\"Q\", \"CAG\":\"Q\", \"AAU\":\"N\", \"AAC\":\"N\", \"AAA\":\"K\", \"AAG\":\"K\", \"GAU\":\"D\", \"GAC\":\"D\", \"GAA\":\"E\", \"GAG\":\"E\", \"UGU\":\"C\", \"UGC\":\"C\", \"UGA\":\"STOP\", \"UGG\":\"W\", \"CGU\":\"R\", \"CGC\":\"R\", \"CGA\":\"R\", \"CGG\":\"R\", \"AGU\":\"S\", \"AGC\":\"S\", \"AGA\":\"R\", \"AGG\":\"R\", \"GGU\":\"G\", \"GGC\":\"G\", \"GGA\":\"G\", \"GGG\":\"G\"}\n",
        "\n",
        "#turtle protein\n",
        "proteinT = \"\" # make empty string of acids\n",
        "codonT = \"\" # 3 characters, temporary place to store codons\n",
        "\n",
        "for i in turtle:\n",
        "  if len(codonT) == 3:\n",
        "    proteinT += codonDict[codonT]\n",
        "    codonT = \"\"\n",
        "    codonT += i\n",
        "  else:\n",
        "    codonT += i\n",
        "\n",
        "print(proteinT)"
      ],
      "execution_count": null,
      "outputs": [
        {
          "output_type": "error",
          "ename": "KeyError",
          "evalue": "ignored",
          "traceback": [
            "\u001b[0;31m---------------------------------------------------------------------------\u001b[0m",
            "\u001b[0;31mKeyError\u001b[0m                                  Traceback (most recent call last)",
            "\u001b[0;32m<ipython-input-46-288b436d9e2d>\u001b[0m in \u001b[0;36m<module>\u001b[0;34m()\u001b[0m\n\u001b[1;32m      8\u001b[0m \u001b[0;32mfor\u001b[0m \u001b[0mi\u001b[0m \u001b[0;32min\u001b[0m \u001b[0mturtle\u001b[0m\u001b[0;34m:\u001b[0m\u001b[0;34m\u001b[0m\u001b[0;34m\u001b[0m\u001b[0m\n\u001b[1;32m      9\u001b[0m   \u001b[0;32mif\u001b[0m \u001b[0mlen\u001b[0m\u001b[0;34m(\u001b[0m\u001b[0mcodonT\u001b[0m\u001b[0;34m)\u001b[0m \u001b[0;34m==\u001b[0m \u001b[0;36m3\u001b[0m\u001b[0;34m:\u001b[0m\u001b[0;34m\u001b[0m\u001b[0;34m\u001b[0m\u001b[0m\n\u001b[0;32m---> 10\u001b[0;31m     \u001b[0mproteinT\u001b[0m \u001b[0;34m+=\u001b[0m \u001b[0mcodonDict\u001b[0m\u001b[0;34m[\u001b[0m\u001b[0mcodonT\u001b[0m\u001b[0;34m]\u001b[0m\u001b[0;34m\u001b[0m\u001b[0;34m\u001b[0m\u001b[0m\n\u001b[0m\u001b[1;32m     11\u001b[0m     \u001b[0mcodonT\u001b[0m \u001b[0;34m=\u001b[0m \u001b[0;34m\"\"\u001b[0m\u001b[0;34m\u001b[0m\u001b[0;34m\u001b[0m\u001b[0m\n\u001b[1;32m     12\u001b[0m     \u001b[0mcodonT\u001b[0m \u001b[0;34m+=\u001b[0m \u001b[0mi\u001b[0m\u001b[0;34m\u001b[0m\u001b[0;34m\u001b[0m\u001b[0m\n",
            "\u001b[0;31mKeyError\u001b[0m: 'TAA'"
          ]
        }
      ]
    },
    {
      "cell_type": "markdown",
      "metadata": {
        "id": "nDc5AOZCr9Wo"
      },
      "source": [
        "## Bonus Challenge\n",
        "\n",
        "Visualize your results! Choose a graph type that you think will communicate your conclusions effectively and create it using matplotlib:"
      ]
    },
    {
      "cell_type": "code",
      "metadata": {
        "colab": {
          "base_uri": "https://localhost:8080/",
          "height": 366
        },
        "id": "uamtsc-8r9Wp",
        "outputId": "06921046-62f2-4d26-cb61-05943e3f73b0"
      },
      "source": [
        "import matplotlib.pyplot as plt\n",
        "fig = plt.figure()\n",
        "ax = fig.add_axes([0,0,1,1])\n",
        "percents = ['Turtle-Chicken', 'Turtle-Alligator', 'Chicken-Alligator']\n",
        "animals = [percentTC, percentTA, percentCA]\n",
        "ax.bar(percents,animals)\n",
        "plt.title('Similarites Between Species')\n",
        "plt.xlabel('Species Name')\n",
        "plt.ylabel('Percent')\n",
        "plt.show()"
      ],
      "execution_count": null,
      "outputs": [
        {
          "output_type": "display_data",
          "data": {
            "image/png": "[encoded data removed]",
            "text/plain": [
              "<Figure size 432x288 with 1 Axes>"
            ]
          },
          "metadata": {
            "tags": [],
            "needs_background": "light"
          }
        }
      ]
    },
    {
      "cell_type": "markdown",
      "metadata": {
        "id": "n7oc8R7Wr9Wp"
      },
      "source": [
        "## Bonus Challenge 2\n",
        "If you finish your project and want to try a challenge, come up with a hypothesis about which of the following species are most closely related to humans (carp, chicken, chimp, dog, eel, elephant, frog, gorilla, macaque monkey, mouse, orangutan, pig). Write out a ranked list with the species you think is most related to humans at the top.\n",
        "\n",
        "Then calculate the percent difference between the hemoglobin amino acid sequences of humans and each species to find out how close you came to the right ranking!"
      ]
    },
    {
      "cell_type": "code",
      "metadata": {
        "collapsed": true,
        "colab": {
          "base_uri": "https://localhost:8080/"
        },
        "id": "SLCSyZHqr9Wq",
        "outputId": "f383da12-5afd-47b0-d28d-2bc7c6d7fefe"
      },
      "source": [
        "#hypothesis: chimp, macaque monkey, orangutan, gorilla, pig, elephant, mouse, dog, chicken, carp, eel, frog\n",
        "carp = open(\"/content/drive/MyDrive/Colab Notebooks/Carp_hemoglobin.txt\").read()\n",
        "chicken1 = open(\"/content/drive/MyDrive/Colab Notebooks/Chicken_hemoglobin.txt\").read()\n",
        "chimp = open(\"/content/drive/MyDrive/Colab Notebooks/Chimp_hemoglobin.txt\").read()\n",
        "dog = open(\"/content/drive/MyDrive/Colab Notebooks/Dog_hemoglobin.txt\").read()\n",
        "eel = open(\"/content/drive/MyDrive/Colab Notebooks/Eel_hemoglobin.txt\").read()\n",
        "elephant = open(\"/content/drive/MyDrive/Colab Notebooks/Elephant_hemoglobin.txt\").read()\n",
        "frog = open(\"/content/drive/MyDrive/Colab Notebooks/Frog_hemoglobin.txt\").read()\n",
        "gorilla = open(\"/content/drive/MyDrive/Colab Notebooks/Gorilla_hemoglobin.txt\").read()\n",
        "macaque = open(\"/content/drive/MyDrive/Colab Notebooks/Macaque_hemoglobin.txt\").read()\n",
        "mouse = open(\"/content/drive/MyDrive/Colab Notebooks/Mouse_hemoglobin.txt\").read()\n",
        "orangutan = open(\"/content/drive/MyDrive/Colab Notebooks/Orangutan_hemoglobin.txt\").read()\n",
        "pig = open(\"/content/drive/MyDrive/Colab Notebooks/Pig_hemoglobin.txt\").read()\n",
        "human = open(\"/content/drive/MyDrive/Colab Notebooks/Human_hemoglobin.txt\").read()\n",
        "\n",
        "#comparing carp:\n",
        "numSimilaritesCarp = 0\n",
        "\n",
        "for c, i in enumerate(human):\n",
        "  if carp[c] == i: #checking for similarites\n",
        "    numSimilaritesCarp += 1\n",
        "\n",
        "print(numSimilaritesCarp)\n",
        "\n",
        "#chicken\n",
        "numSimilaritesChicken1 = 0\n",
        "\n",
        "for c, i in enumerate(human):\n",
        "  if chicken1[c] == i: #checking for similarites\n",
        "    numSimilaritesChicken1 += 1\n",
        "\n",
        "print(numSimilaritesChicken1)\n",
        "\n",
        "#chimp\n",
        "numSimilaritesChimp = 0\n",
        "\n",
        "for c, i in enumerate(human):\n",
        "  if chimp[c] == i: #checking for similarites\n",
        "    numSimilaritesChimp += 1\n",
        "\n",
        "print(numSimilaritesChimp)\n",
        "\n",
        "#dog\n",
        "numSimilaritesDog = 0\n",
        "\n",
        "for c, i in enumerate(human):\n",
        "  if dog[c] == i: #checking for similarites\n",
        "    numSimilaritesDog += 1\n",
        "\n",
        "print(numSimilaritesDog)\n",
        "\n",
        "#eel\n",
        "numSimilaritesEel = 0\n",
        "\n",
        "for c, i in enumerate(human):\n",
        "  if eel[c] == i: #checking for similarites\n",
        "    numSimilaritesEel += 1\n",
        "\n",
        "print(numSimilaritesEel)\n",
        "\n",
        "#elephant\n",
        "numSimilaritesElephant = 0\n",
        "\n",
        "for c, i in enumerate(human):\n",
        "  if elephant[c] == i: #checking for similarites\n",
        "    numSimilaritesElephant += 1\n",
        "\n",
        "print(numSimilaritesElephant)\n",
        "\n",
        "#frog\n",
        "numSimilaritesFrog = 0\n",
        "\n",
        "for c, i in enumerate(human):\n",
        "  if frog[c] == i: #checking for similarites\n",
        "    numSimilaritesFrog += 1\n",
        "\n",
        "print(numSimilaritesFrog)\n",
        "\n",
        "#gorilla \n",
        "numSimilaritesGorilla = 0\n",
        "\n",
        "for c, i in enumerate(human):\n",
        "  if gorilla[c] == i: #checking for similarites\n",
        "    numSimilaritesGorilla += 1\n",
        "\n",
        "print(numSimilaritesGorilla)\n",
        "\n",
        "#macaque\n",
        "numSimilaritesMacaque = 0\n",
        "\n",
        "for c, i in enumerate(human):\n",
        "  if macaque[c] == i: #checking for similarites\n",
        "    numSimilaritesMacaque += 1\n",
        "\n",
        "print(numSimilaritesMacaque)\n",
        "\n",
        "#mouse\n",
        "numSimilaritesMouse = 0\n",
        "\n",
        "for c, i in enumerate(human):\n",
        "  if mouse[c] == i: #checking for similarites\n",
        "    numSimilaritesMouse += 1\n",
        "\n",
        "print(numSimilaritesMouse)\n",
        "\n",
        "#orangutan\n",
        "numSimilaritesOrangutan = 0\n",
        "\n",
        "for c, i in enumerate(human):\n",
        "  if orangutan[c] == i: #checking for similarites\n",
        "    numSimilaritesOrangutan += 1\n",
        "\n",
        "print(numSimilaritesOrangutan)\n",
        "\n",
        "#pig\n",
        "numSimilaritesPig = 0\n",
        "\n",
        "for c, i in enumerate(human):\n",
        "  if pig[c] == i: #checking for similarites\n",
        "    numSimilaritesPig += 1\n",
        "\n",
        "print(numSimilaritesPig)"
      ],
      "execution_count": null,
      "outputs": [
        {
          "output_type": "stream",
          "text": [
            "30\n",
            "99\n",
            "141\n",
            "118\n",
            "28\n",
            "117\n",
            "81\n",
            "140\n",
            "136\n",
            "121\n",
            "138\n",
            "119\n"
          ],
          "name": "stdout"
        }
      ]
    },
    {
      "cell_type": "code",
      "metadata": {
        "id": "z2wiWhZTugzi"
      },
      "source": [
        "#calculating percents\n",
        "percentCarp = (numSimilaritesCarp * 100)/len(human)\n",
        "percentChicken1 = (numSimilaritesChicken1 * 100)/len(human)\n",
        "percentChimp = (numSimilaritesChimp * 100)/len(human)\n",
        "percentDog = (numSimilaritesDog * 100)/len(human)\n",
        "percentEel = (numSimilaritesEel * 100)/len(human)\n",
        "percentElephant = (numSimilaritesElephant * 100)/len(human)\n",
        "percentFrog = (numSimilaritesFrog * 100)/len(human)\n",
        "percentGorilla = (numSimilaritesGorilla * 100)/len(human)\n",
        "percentMacaque = (numSimilaritesMacaque * 100)/len(human)\n",
        "percentMouse = (numSimilaritesMouse * 100)/len(human)\n",
        "percentOrangutan = (numSimilaritesOrangutan * 100)/len(human)\n",
        "percentPig = (numSimilaritesPig * 100)/len(human)"
      ],
      "execution_count": null,
      "outputs": []
    },
    {
      "cell_type": "code",
      "metadata": {
        "colab": {
          "base_uri": "https://localhost:8080/"
        },
        "id": "8F6PWU2KvVNh",
        "outputId": "bca90a3c-e27a-4f68-865c-49d371e90fbc"
      },
      "source": [
        "print(\"Carp to human percent similarity: \" + str(percentCarp))\n",
        "print(\"Chicken to human percent similarity: \" + str(percentChicken1))\n",
        "print(\"Chimp to human percent similarity: \" + str(percentChimp))\n",
        "print(\"Dog to human percent similarity: \" + str(percentDog))\n",
        "print(\"Eel to human percent similarity: \" + str(percentEel))\n",
        "print(\"Elephant to human percent similarity: \" + str(percentElephant))\n",
        "print(\"Frog to human percent similarity: \" + str(percentFrog))\n",
        "print(\"Gorilla to human percent similarity: \" + str(percentGorilla))\n",
        "print(\"Macaque to human percent similarity: \" + str(percentMacaque))\n",
        "print(\"Mouse to human percent similarity: \" + str(percentMouse))\n",
        "print(\"Orangutan to human percent similarity: \" + str(percentOrangutan))\n",
        "print(\"Pig to human percent similarity: \" + str(percentPig))"
      ],
      "execution_count": null,
      "outputs": [
        {
          "output_type": "stream",
          "text": [
            "Carp to human percent similarity: 21.27659574468085\n",
            "Chicken to human percent similarity: 70.2127659574468\n",
            "Chimp to human percent similarity: 100.0\n",
            "Dog to human percent similarity: 83.68794326241135\n",
            "Eel to human percent similarity: 19.858156028368793\n",
            "Elephant to human percent similarity: 82.97872340425532\n",
            "Frog to human percent similarity: 57.4468085106383\n",
            "Gorilla to human percent similarity: 99.29078014184397\n",
            "Macaque to human percent similarity: 96.45390070921985\n",
            "Mouse to human percent similarity: 85.81560283687944\n",
            "Orangutan to human percent similarity: 97.87234042553192\n",
            "Pig to human percent similarity: 84.39716312056737\n"
          ],
          "name": "stdout"
        }
      ]
    },
    {
      "cell_type": "code",
      "metadata": {
        "colab": {
          "base_uri": "https://localhost:8080/",
          "height": 510
        },
        "id": "j9IH4Q3rxRW6",
        "outputId": "bd7c0503-ecd2-46f3-dfde-753e42e5930f"
      },
      "source": [
        "import matplotlib.pyplot as plt\n",
        "fig = plt.figure(figsize=(12,6))\n",
        "ax = fig.add_axes([0,0,1,1])\n",
        "percents = ['Carp', 'Chicken', 'Chimp', 'Dog', 'Eel', 'Elephant', 'Frog', 'Gorilla', 'Macaque', 'Mouse', 'Orangutan', 'Pig']\n",
        "animals = [percentCarp, percentChicken, percentChimp, percentDog, percentEel, percentElephant, percentFrog, percentGorilla, percentMacaque, percentMouse, percentOrangutan, percentPig]\n",
        "ax.bar(percents,animals)\n",
        "plt.title('Similarites Between Species')\n",
        "plt.xlabel('Species Name')\n",
        "plt.ylabel('Percent similarity in hemoglobin')\n",
        "plt.show()"
      ],
      "execution_count": null,
      "outputs": [
        {
          "output_type": "display_data",
          "data": {
            "image/png": "[encoded data removed]",
            "text/plain": [
              "<Figure size 864x432 with 1 Axes>"
            ]
          },
          "metadata": {
            "tags": [],
            "needs_background": "light"
          }
        }
      ]
    }
  ]
}